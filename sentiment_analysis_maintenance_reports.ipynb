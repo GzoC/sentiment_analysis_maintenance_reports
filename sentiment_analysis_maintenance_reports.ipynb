{
 "cells": [
  {
   "cell_type": "code",
   "execution_count": 1,
   "id": "172fd2d0-943d-4569-bacf-8afc6d4ed824",
   "metadata": {},
   "outputs": [
    {
     "data": {
      "text/html": [
       "<div>\n",
       "<style scoped>\n",
       "    .dataframe tbody tr th:only-of-type {\n",
       "        vertical-align: middle;\n",
       "    }\n",
       "\n",
       "    .dataframe tbody tr th {\n",
       "        vertical-align: top;\n",
       "    }\n",
       "\n",
       "    .dataframe thead th {\n",
       "        text-align: right;\n",
       "    }\n",
       "</style>\n",
       "<table border=\"1\" class=\"dataframe\">\n",
       "  <thead>\n",
       "    <tr style=\"text-align: right;\">\n",
       "      <th></th>\n",
       "      <th>texto_comentario</th>\n",
       "    </tr>\n",
       "  </thead>\n",
       "  <tbody>\n",
       "    <tr>\n",
       "      <th>0</th>\n",
       "      <td>El equipo funciona de maravilla, no hemos teni...</td>\n",
       "    </tr>\n",
       "    <tr>\n",
       "      <th>1</th>\n",
       "      <td>Esta máquina hace demasiado ruido, es muy molesto</td>\n",
       "    </tr>\n",
       "    <tr>\n",
       "      <th>2</th>\n",
       "      <td>El rendimiento es aceptable, aunque podría mej...</td>\n",
       "    </tr>\n",
       "    <tr>\n",
       "      <th>3</th>\n",
       "      <td>Buen soporte técnico, pero a veces tarda en re...</td>\n",
       "    </tr>\n",
       "    <tr>\n",
       "      <th>4</th>\n",
       "      <td>La línea de producción se detuvo inesperadamen...</td>\n",
       "    </tr>\n",
       "    <tr>\n",
       "      <th>5</th>\n",
       "      <td>Excelente funcionamiento, los operadores están...</td>\n",
       "    </tr>\n",
       "  </tbody>\n",
       "</table>\n",
       "</div>"
      ],
      "text/plain": [
       "                                    texto_comentario\n",
       "0  El equipo funciona de maravilla, no hemos teni...\n",
       "1  Esta máquina hace demasiado ruido, es muy molesto\n",
       "2  El rendimiento es aceptable, aunque podría mej...\n",
       "3  Buen soporte técnico, pero a veces tarda en re...\n",
       "4  La línea de producción se detuvo inesperadamen...\n",
       "5  Excelente funcionamiento, los operadores están..."
      ]
     },
     "execution_count": 1,
     "metadata": {},
     "output_type": "execute_result"
    }
   ],
   "source": [
    "# =======================================\n",
    "# 1) Importación de librerías necesarias\n",
    "# =======================================\n",
    "import pandas as pd  # Importamos la librería pandas para trabajar con estructuras de datos como DataFrames\n",
    "\n",
    "# =======================================\n",
    "# 2) Creación de un DataFrame con datos simulados\n",
    "# =======================================\n",
    "# Creamos un diccionario que contiene comentarios simulados, representando opiniones de operarios o informes de mantenimiento.\n",
    "data = {\n",
    "    'texto_comentario': [  # Clave del diccionario, representa una columna llamada 'texto_comentario'\n",
    "        'El equipo funciona de maravilla, no hemos tenido fallas en semanas',  # Comentario positivo\n",
    "        'Esta máquina hace demasiado ruido, es muy molesto',  # Comentario negativo\n",
    "        'El rendimiento es aceptable, aunque podría mejorar en velocidad',  # Comentario neutral o mixto\n",
    "        'Buen soporte técnico, pero a veces tarda en responder',  # Comentario mixto\n",
    "        'La línea de producción se detuvo inesperadamente ayer, fue un caos',  # Comentario negativo\n",
    "        'Excelente funcionamiento, los operadores están muy satisfechos'  # Comentario positivo\n",
    "    ]\n",
    "}\n",
    "\n",
    "# Convertimos el diccionario en un DataFrame utilizando pandas.\n",
    "df = pd.DataFrame(data)  # pd.DataFrame() toma el diccionario y lo organiza en una estructura tabular (filas y columnas)\n",
    "\n",
    "# Mostramos el contenido del DataFrame para verificar que se creó correctamente.\n",
    "df\n"
   ]
  },
  {
   "cell_type": "code",
   "execution_count": null,
   "id": "bb762729-9382-488d-b2fd-6cfb9ccd9921",
   "metadata": {},
   "outputs": [],
   "source": []
  }
 ],
 "metadata": {
  "kernelspec": {
   "display_name": "Python [conda env:base] *",
   "language": "python",
   "name": "conda-base-py"
  },
  "language_info": {
   "codemirror_mode": {
    "name": "ipython",
    "version": 3
   },
   "file_extension": ".py",
   "mimetype": "text/x-python",
   "name": "python",
   "nbconvert_exporter": "python",
   "pygments_lexer": "ipython3",
   "version": "3.12.7"
  }
 },
 "nbformat": 4,
 "nbformat_minor": 5
}
